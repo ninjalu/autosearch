{
 "cells": [
  {
   "cell_type": "code",
   "execution_count": 15,
   "metadata": {},
   "outputs": [],
   "source": [
    "import pandas as pd"
   ]
  },
  {
   "cell_type": "code",
   "execution_count": 16,
   "metadata": {},
   "outputs": [],
   "source": [
    "wine = pd.read_csv('winequality-red-train.csv')"
   ]
  },
  {
   "cell_type": "code",
   "execution_count": 17,
   "metadata": {},
   "outputs": [
    {
     "output_type": "execute_result",
     "data": {
      "text/plain": "   Unnamed: 0  fixed acidity  volatile acidity  citric acid  residual sugar  \\\n0         341           10.6              0.42         0.48             2.7   \n1        1372            8.7              0.78         0.51             1.7   \n2         468           11.4              0.36         0.69             2.1   \n3        1402            7.6              0.30         0.42             2.0   \n4        1369            6.6              0.61         0.00             1.6   \n\n   chlorides  free sulfur dioxide  total sulfur dioxide  density    pH  \\\n0      0.065                  5.0                  18.0  0.99720  3.21   \n1      0.415                 12.0                  66.0  0.99623  3.00   \n2      0.090                  6.0                  21.0  1.00000  3.17   \n3      0.052                  6.0                  24.0  0.99630  3.44   \n4      0.069                  4.0                   8.0  0.99396  3.33   \n\n   sulphates  alcohol  quality  \n0       0.87     11.3        6  \n1       1.17      9.2        5  \n2       0.62      9.2        6  \n3       0.82     11.9        6  \n4       0.37     10.4        4  ",
      "text/html": "<div>\n<style scoped>\n    .dataframe tbody tr th:only-of-type {\n        vertical-align: middle;\n    }\n\n    .dataframe tbody tr th {\n        vertical-align: top;\n    }\n\n    .dataframe thead th {\n        text-align: right;\n    }\n</style>\n<table border=\"1\" class=\"dataframe\">\n  <thead>\n    <tr style=\"text-align: right;\">\n      <th></th>\n      <th>Unnamed: 0</th>\n      <th>fixed acidity</th>\n      <th>volatile acidity</th>\n      <th>citric acid</th>\n      <th>residual sugar</th>\n      <th>chlorides</th>\n      <th>free sulfur dioxide</th>\n      <th>total sulfur dioxide</th>\n      <th>density</th>\n      <th>pH</th>\n      <th>sulphates</th>\n      <th>alcohol</th>\n      <th>quality</th>\n    </tr>\n  </thead>\n  <tbody>\n    <tr>\n      <th>0</th>\n      <td>341</td>\n      <td>10.6</td>\n      <td>0.42</td>\n      <td>0.48</td>\n      <td>2.7</td>\n      <td>0.065</td>\n      <td>5.0</td>\n      <td>18.0</td>\n      <td>0.99720</td>\n      <td>3.21</td>\n      <td>0.87</td>\n      <td>11.3</td>\n      <td>6</td>\n    </tr>\n    <tr>\n      <th>1</th>\n      <td>1372</td>\n      <td>8.7</td>\n      <td>0.78</td>\n      <td>0.51</td>\n      <td>1.7</td>\n      <td>0.415</td>\n      <td>12.0</td>\n      <td>66.0</td>\n      <td>0.99623</td>\n      <td>3.00</td>\n      <td>1.17</td>\n      <td>9.2</td>\n      <td>5</td>\n    </tr>\n    <tr>\n      <th>2</th>\n      <td>468</td>\n      <td>11.4</td>\n      <td>0.36</td>\n      <td>0.69</td>\n      <td>2.1</td>\n      <td>0.090</td>\n      <td>6.0</td>\n      <td>21.0</td>\n      <td>1.00000</td>\n      <td>3.17</td>\n      <td>0.62</td>\n      <td>9.2</td>\n      <td>6</td>\n    </tr>\n    <tr>\n      <th>3</th>\n      <td>1402</td>\n      <td>7.6</td>\n      <td>0.30</td>\n      <td>0.42</td>\n      <td>2.0</td>\n      <td>0.052</td>\n      <td>6.0</td>\n      <td>24.0</td>\n      <td>0.99630</td>\n      <td>3.44</td>\n      <td>0.82</td>\n      <td>11.9</td>\n      <td>6</td>\n    </tr>\n    <tr>\n      <th>4</th>\n      <td>1369</td>\n      <td>6.6</td>\n      <td>0.61</td>\n      <td>0.00</td>\n      <td>1.6</td>\n      <td>0.069</td>\n      <td>4.0</td>\n      <td>8.0</td>\n      <td>0.99396</td>\n      <td>3.33</td>\n      <td>0.37</td>\n      <td>10.4</td>\n      <td>4</td>\n    </tr>\n  </tbody>\n</table>\n</div>"
     },
     "metadata": {},
     "execution_count": 17
    }
   ],
   "source": [
    "wine.head()"
   ]
  },
  {
   "cell_type": "code",
   "execution_count": 18,
   "metadata": {},
   "outputs": [
    {
     "output_type": "execute_result",
     "data": {
      "text/plain": "(1279, 13)"
     },
     "metadata": {},
     "execution_count": 18
    }
   ],
   "source": [
    "wine.shape"
   ]
  },
  {
   "cell_type": "code",
   "execution_count": 19,
   "metadata": {},
   "outputs": [],
   "source": [
    "X = wine.drop(['quality'], axis=1)"
   ]
  },
  {
   "cell_type": "code",
   "execution_count": 20,
   "metadata": {},
   "outputs": [],
   "source": [
    "y = wine['quality']"
   ]
  },
  {
   "cell_type": "code",
   "execution_count": 21,
   "metadata": {},
   "outputs": [
    {
     "output_type": "execute_result",
     "data": {
      "text/plain": "5    528\n6    516\n7    170\n4     42\n8     17\n3      6\nName: quality, dtype: int64"
     },
     "metadata": {},
     "execution_count": 21
    }
   ],
   "source": [
    "y.value_counts()"
   ]
  },
  {
   "cell_type": "code",
   "execution_count": 22,
   "metadata": {},
   "outputs": [],
   "source": [
    "from model import Ensem_Model\n",
    "from sklearn.preprocessing import StandardScaler"
   ]
  },
  {
   "cell_type": "code",
   "execution_count": 23,
   "metadata": {},
   "outputs": [],
   "source": [
    "scaler = StandardScaler()\n",
    "X = scaler.fit_transform(X)"
   ]
  },
  {
   "cell_type": "code",
   "execution_count": 24,
   "metadata": {},
   "outputs": [],
   "source": [
    "m = Ensem_Model()"
   ]
  },
  {
   "cell_type": "code",
   "execution_count": 25,
   "metadata": {
    "tags": []
   },
   "outputs": [
    {
     "output_type": "stream",
     "name": "stdout",
     "text": "Fitting 5 folds for each of 200 candidates, totalling 1000 fits\n[Parallel(n_jobs=-1)]: Using backend LokyBackend with 4 concurrent workers.\n[Parallel(n_jobs=-1)]: Done  33 tasks      | elapsed:   46.4s\n[Parallel(n_jobs=-1)]: Done 154 tasks      | elapsed:  2.9min\n[Parallel(n_jobs=-1)]: Done 357 tasks      | elapsed:  6.1min\n[Parallel(n_jobs=-1)]: Done 640 tasks      | elapsed: 11.0min\n[Parallel(n_jobs=-1)]: Done 1000 out of 1000 | elapsed: 16.8min finished\nFitting 5 folds for each of 20 candidates, totalling 100 fits\n[Parallel(n_jobs=-1)]: Using backend LokyBackend with 4 concurrent workers.\n[Parallel(n_jobs=-1)]: Done  33 tasks      | elapsed:   26.8s\n[Parallel(n_jobs=-1)]: Done 100 out of 100 | elapsed:  1.6min finished\n"
    },
    {
     "output_type": "error",
     "ename": "NameError",
     "evalue": "name 'sab_search' is not defined",
     "traceback": [
      "\u001b[0;31m---------------------------------------------------------------------------\u001b[0m",
      "\u001b[0;31mNameError\u001b[0m                                 Traceback (most recent call last)",
      "\u001b[0;32m<ipython-input-25-61a31a31584c>\u001b[0m in \u001b[0;36m<module>\u001b[0;34m\u001b[0m\n\u001b[0;32m----> 1\u001b[0;31m \u001b[0mm\u001b[0m\u001b[0;34m.\u001b[0m\u001b[0mfit\u001b[0m\u001b[0;34m(\u001b[0m\u001b[0mX\u001b[0m\u001b[0;34m,\u001b[0m \u001b[0my\u001b[0m\u001b[0;34m)\u001b[0m\u001b[0;34m\u001b[0m\u001b[0;34m\u001b[0m\u001b[0m\n\u001b[0m",
      "\u001b[0;32m~/projects/wine/model.py\u001b[0m in \u001b[0;36mfit\u001b[0;34m(self, X, y)\u001b[0m\n\u001b[1;32m     90\u001b[0m         \u001b[0mab_search\u001b[0m\u001b[0;34m.\u001b[0m\u001b[0mfit\u001b[0m\u001b[0;34m(\u001b[0m\u001b[0mX\u001b[0m\u001b[0;34m,\u001b[0m \u001b[0my\u001b[0m\u001b[0;34m)\u001b[0m\u001b[0;34m\u001b[0m\u001b[0;34m\u001b[0m\u001b[0m\n\u001b[1;32m     91\u001b[0m         \u001b[0mself\u001b[0m\u001b[0;34m.\u001b[0m\u001b[0mhyperP_best\u001b[0m\u001b[0;34m[\u001b[0m\u001b[0;34m'AB'\u001b[0m\u001b[0;34m]\u001b[0m \u001b[0;34m=\u001b[0m \u001b[0mab_search\u001b[0m\u001b[0;34m.\u001b[0m\u001b[0mbest_params_\u001b[0m\u001b[0;34m\u001b[0m\u001b[0;34m\u001b[0m\u001b[0m\n\u001b[0;32m---> 92\u001b[0;31m         \u001b[0mself\u001b[0m\u001b[0;34m.\u001b[0m\u001b[0mmetrics\u001b[0m\u001b[0;34m[\u001b[0m\u001b[0;34m'AB'\u001b[0m\u001b[0;34m]\u001b[0m \u001b[0;34m=\u001b[0m \u001b[0;34m{\u001b[0m\u001b[0;34m'roc_auc_ovr'\u001b[0m\u001b[0;34m:\u001b[0m \u001b[0mab_search\u001b[0m\u001b[0;34m.\u001b[0m\u001b[0mbest_score_\u001b[0m\u001b[0;34m}\u001b[0m\u001b[0;34m\u001b[0m\u001b[0;34m\u001b[0m\u001b[0m\n\u001b[0m\u001b[1;32m     93\u001b[0m \u001b[0;34m\u001b[0m\u001b[0m\n\u001b[1;32m     94\u001b[0m     \u001b[0;32mdef\u001b[0m \u001b[0mensemble\u001b[0m\u001b[0;34m(\u001b[0m\u001b[0mself\u001b[0m\u001b[0;34m)\u001b[0m\u001b[0;34m:\u001b[0m\u001b[0;34m\u001b[0m\u001b[0;34m\u001b[0m\u001b[0m\n",
      "\u001b[0;31mNameError\u001b[0m: name 'sab_search' is not defined"
     ]
    }
   ],
   "source": [
    "m.fit(X, y)"
   ]
  },
  {
   "cell_type": "code",
   "execution_count": 26,
   "metadata": {},
   "outputs": [
    {
     "output_type": "execute_result",
     "data": {
      "text/plain": "{'RF': {'n_estimators': 800,\n  'min_samples_split': 2,\n  'min_samples_leaf': 1,\n  'max_depth': 30,\n  'bootstrap': False},\n 'AB': {'n_estimators': 300, 'learning_rate': 0.01},\n 'XGB': None}"
     },
     "metadata": {},
     "execution_count": 26
    }
   ],
   "source": [
    "m.hyperP_best"
   ]
  },
  {
   "cell_type": "code",
   "execution_count": 27,
   "metadata": {},
   "outputs": [
    {
     "output_type": "execute_result",
     "data": {
      "text/plain": "{'RF': {'roc_auc_ovr': 0.9466741397148433},\n 'AB': None,\n 'XGB': None,\n 'ORD': None}"
     },
     "metadata": {},
     "execution_count": 27
    }
   ],
   "source": [
    "m.metrics"
   ]
  },
  {
   "cell_type": "code",
   "execution_count": null,
   "metadata": {},
   "outputs": [],
   "source": []
  }
 ],
 "metadata": {
  "kernelspec": {
   "display_name": "Python 3",
   "language": "python",
   "name": "python3"
  },
  "language_info": {
   "codemirror_mode": {
    "name": "ipython",
    "version": 3
   },
   "file_extension": ".py",
   "mimetype": "text/x-python",
   "name": "python",
   "nbconvert_exporter": "python",
   "pygments_lexer": "ipython3",
   "version": "3.8.3-final"
  }
 },
 "nbformat": 4,
 "nbformat_minor": 4
}