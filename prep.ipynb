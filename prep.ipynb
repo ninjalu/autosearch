{
 "cells": [
  {
   "cell_type": "code",
   "execution_count": 1,
   "metadata": {},
   "outputs": [],
   "source": [
    "import pandas as pd\n",
    "from sklearn.metrics import f1_score"
   ]
  },
  {
   "cell_type": "code",
   "execution_count": 2,
   "metadata": {},
   "outputs": [],
   "source": [
    "wine = pd.read_csv('winequality-red-train.csv')"
   ]
  },
  {
   "cell_type": "code",
   "execution_count": 3,
   "metadata": {},
   "outputs": [
    {
     "output_type": "execute_result",
     "data": {
      "text/plain": "   Unnamed: 0  fixed acidity  volatile acidity  citric acid  residual sugar  \\\n0         341           10.6              0.42         0.48             2.7   \n1        1372            8.7              0.78         0.51             1.7   \n2         468           11.4              0.36         0.69             2.1   \n3        1402            7.6              0.30         0.42             2.0   \n4        1369            6.6              0.61         0.00             1.6   \n\n   chlorides  free sulfur dioxide  total sulfur dioxide  density    pH  \\\n0      0.065                  5.0                  18.0  0.99720  3.21   \n1      0.415                 12.0                  66.0  0.99623  3.00   \n2      0.090                  6.0                  21.0  1.00000  3.17   \n3      0.052                  6.0                  24.0  0.99630  3.44   \n4      0.069                  4.0                   8.0  0.99396  3.33   \n\n   sulphates  alcohol  quality  \n0       0.87     11.3        6  \n1       1.17      9.2        5  \n2       0.62      9.2        6  \n3       0.82     11.9        6  \n4       0.37     10.4        4  ",
      "text/html": "<div>\n<style scoped>\n    .dataframe tbody tr th:only-of-type {\n        vertical-align: middle;\n    }\n\n    .dataframe tbody tr th {\n        vertical-align: top;\n    }\n\n    .dataframe thead th {\n        text-align: right;\n    }\n</style>\n<table border=\"1\" class=\"dataframe\">\n  <thead>\n    <tr style=\"text-align: right;\">\n      <th></th>\n      <th>Unnamed: 0</th>\n      <th>fixed acidity</th>\n      <th>volatile acidity</th>\n      <th>citric acid</th>\n      <th>residual sugar</th>\n      <th>chlorides</th>\n      <th>free sulfur dioxide</th>\n      <th>total sulfur dioxide</th>\n      <th>density</th>\n      <th>pH</th>\n      <th>sulphates</th>\n      <th>alcohol</th>\n      <th>quality</th>\n    </tr>\n  </thead>\n  <tbody>\n    <tr>\n      <th>0</th>\n      <td>341</td>\n      <td>10.6</td>\n      <td>0.42</td>\n      <td>0.48</td>\n      <td>2.7</td>\n      <td>0.065</td>\n      <td>5.0</td>\n      <td>18.0</td>\n      <td>0.99720</td>\n      <td>3.21</td>\n      <td>0.87</td>\n      <td>11.3</td>\n      <td>6</td>\n    </tr>\n    <tr>\n      <th>1</th>\n      <td>1372</td>\n      <td>8.7</td>\n      <td>0.78</td>\n      <td>0.51</td>\n      <td>1.7</td>\n      <td>0.415</td>\n      <td>12.0</td>\n      <td>66.0</td>\n      <td>0.99623</td>\n      <td>3.00</td>\n      <td>1.17</td>\n      <td>9.2</td>\n      <td>5</td>\n    </tr>\n    <tr>\n      <th>2</th>\n      <td>468</td>\n      <td>11.4</td>\n      <td>0.36</td>\n      <td>0.69</td>\n      <td>2.1</td>\n      <td>0.090</td>\n      <td>6.0</td>\n      <td>21.0</td>\n      <td>1.00000</td>\n      <td>3.17</td>\n      <td>0.62</td>\n      <td>9.2</td>\n      <td>6</td>\n    </tr>\n    <tr>\n      <th>3</th>\n      <td>1402</td>\n      <td>7.6</td>\n      <td>0.30</td>\n      <td>0.42</td>\n      <td>2.0</td>\n      <td>0.052</td>\n      <td>6.0</td>\n      <td>24.0</td>\n      <td>0.99630</td>\n      <td>3.44</td>\n      <td>0.82</td>\n      <td>11.9</td>\n      <td>6</td>\n    </tr>\n    <tr>\n      <th>4</th>\n      <td>1369</td>\n      <td>6.6</td>\n      <td>0.61</td>\n      <td>0.00</td>\n      <td>1.6</td>\n      <td>0.069</td>\n      <td>4.0</td>\n      <td>8.0</td>\n      <td>0.99396</td>\n      <td>3.33</td>\n      <td>0.37</td>\n      <td>10.4</td>\n      <td>4</td>\n    </tr>\n  </tbody>\n</table>\n</div>"
     },
     "metadata": {},
     "execution_count": 3
    }
   ],
   "source": [
    "wine.head()"
   ]
  },
  {
   "cell_type": "code",
   "execution_count": 4,
   "metadata": {},
   "outputs": [
    {
     "output_type": "execute_result",
     "data": {
      "text/plain": "(1279, 13)"
     },
     "metadata": {},
     "execution_count": 4
    }
   ],
   "source": [
    "wine.shape"
   ]
  },
  {
   "cell_type": "code",
   "execution_count": 5,
   "metadata": {},
   "outputs": [],
   "source": [
    "X = wine.drop(['quality'], axis=1)"
   ]
  },
  {
   "cell_type": "code",
   "execution_count": 6,
   "metadata": {},
   "outputs": [],
   "source": [
    "y = wine['quality']"
   ]
  },
  {
   "cell_type": "code",
   "execution_count": 7,
   "metadata": {},
   "outputs": [
    {
     "output_type": "execute_result",
     "data": {
      "text/plain": "5    528\n6    516\n7    170\n4     42\n8     17\n3      6\nName: quality, dtype: int64"
     },
     "metadata": {},
     "execution_count": 7
    }
   ],
   "source": [
    "y.value_counts()"
   ]
  },
  {
   "cell_type": "code",
   "execution_count": 8,
   "metadata": {},
   "outputs": [],
   "source": [
    "from model import Ensem_Model\n",
    "from sklearn.preprocessing import StandardScaler"
   ]
  },
  {
   "cell_type": "code",
   "execution_count": 9,
   "metadata": {},
   "outputs": [],
   "source": [
    "scaler = StandardScaler()\n",
    "X = scaler.fit_transform(X)"
   ]
  },
  {
   "cell_type": "code",
   "execution_count": 10,
   "metadata": {},
   "outputs": [],
   "source": [
    "m = Ensem_Model()"
   ]
  },
  {
   "cell_type": "code",
   "execution_count": 11,
   "metadata": {
    "tags": []
   },
   "outputs": [
    {
     "output_type": "stream",
     "name": "stdout",
     "text": "Fitting 5 folds for each of 200 candidates, totalling 1000 fits\n[Parallel(n_jobs=-1)]: Using backend LokyBackend with 4 concurrent workers.\n[Parallel(n_jobs=-1)]: Done  33 tasks      | elapsed:   19.3s\n[Parallel(n_jobs=-1)]: Done 154 tasks      | elapsed:  1.4min\n[Parallel(n_jobs=-1)]: Done 357 tasks      | elapsed:  3.0min\n[Parallel(n_jobs=-1)]: Done 640 tasks      | elapsed:  5.7min\n[Parallel(n_jobs=-1)]: Done 1000 out of 1000 | elapsed:  9.3min finished\nFitting 5 folds for each of 20 candidates, totalling 100 fits\n[Parallel(n_jobs=-1)]: Using backend LokyBackend with 4 concurrent workers.\n[Parallel(n_jobs=-1)]: Done  33 tasks      | elapsed:   16.0s\n[Parallel(n_jobs=-1)]: Done 100 out of 100 | elapsed:   56.0s finished\nFitting 5 folds for each of 200 candidates, totalling 1000 fits\n[Parallel(n_jobs=-1)]: Using backend LokyBackend with 4 concurrent workers.\n[Parallel(n_jobs=-1)]: Done  33 tasks      | elapsed:   39.1s\n[Parallel(n_jobs=-1)]: Done 154 tasks      | elapsed:  3.0min\n[Parallel(n_jobs=-1)]: Done 357 tasks      | elapsed:  5.1min\n[Parallel(n_jobs=-1)]: Done 640 tasks      | elapsed: 10.3min\n[Parallel(n_jobs=-1)]: Done 1000 out of 1000 | elapsed: 15.4min finished\n"
    }
   ],
   "source": [
    "m.fit(X, y)"
   ]
  },
  {
   "cell_type": "code",
   "execution_count": 12,
   "metadata": {},
   "outputs": [
    {
     "output_type": "execute_result",
     "data": {
      "text/plain": "{'RF': {'n_estimators': 500,\n  'min_samples_split': 5,\n  'min_samples_leaf': 1,\n  'max_depth': None,\n  'bootstrap': False},\n 'AB': {'n_estimators': 300, 'learning_rate': 0.1},\n 'XGB': {'subsample': 0.8,\n  'n_estimators': 500,\n  'min_child_weight': 1,\n  'max_depth': 10,\n  'gamma': 0.5,\n  'eta': 0.01,\n  'colsample_bytree': 0.8}}"
     },
     "metadata": {},
     "execution_count": 12
    }
   ],
   "source": [
    "m.hyperP_best"
   ]
  },
  {
   "cell_type": "code",
   "execution_count": 13,
   "metadata": {},
   "outputs": [
    {
     "output_type": "execute_result",
     "data": {
      "text/plain": "{'RF': {'f1_macro': 0.7255484506425373},\n 'AB': {'f1_macro': 0.252772358679893},\n 'XGB': {'f1_macro': 0.7047542681456884}}"
     },
     "metadata": {},
     "execution_count": 13
    }
   ],
   "source": [
    "m.metrics"
   ]
  },
  {
   "cell_type": "code",
   "execution_count": 14,
   "metadata": {},
   "outputs": [],
   "source": [
    "df = pd.read_csv('winequality-red-test.csv')"
   ]
  },
  {
   "cell_type": "code",
   "execution_count": 15,
   "metadata": {},
   "outputs": [
    {
     "output_type": "execute_result",
     "data": {
      "text/plain": "   Unnamed: 0  fixed acidity  volatile acidity  citric acid  residual sugar  \\\n0           0            7.4              0.70         0.00             1.9   \n1           2            7.8              0.76         0.04             2.3   \n2           4            7.4              0.70         0.00             1.9   \n3           7            7.3              0.65         0.00             1.2   \n4           9            7.5              0.50         0.36             6.1   \n\n   chlorides  free sulfur dioxide  total sulfur dioxide  density    pH  \\\n0      0.076                 11.0                  34.0   0.9978  3.51   \n1      0.092                 15.0                  54.0   0.9970  3.26   \n2      0.076                 11.0                  34.0   0.9978  3.51   \n3      0.065                 15.0                  21.0   0.9946  3.39   \n4      0.071                 17.0                 102.0   0.9978  3.35   \n\n   sulphates  alcohol  quality  \n0       0.56      9.4        5  \n1       0.65      9.8        5  \n2       0.56      9.4        5  \n3       0.47     10.0        7  \n4       0.80     10.5        5  ",
      "text/html": "<div>\n<style scoped>\n    .dataframe tbody tr th:only-of-type {\n        vertical-align: middle;\n    }\n\n    .dataframe tbody tr th {\n        vertical-align: top;\n    }\n\n    .dataframe thead th {\n        text-align: right;\n    }\n</style>\n<table border=\"1\" class=\"dataframe\">\n  <thead>\n    <tr style=\"text-align: right;\">\n      <th></th>\n      <th>Unnamed: 0</th>\n      <th>fixed acidity</th>\n      <th>volatile acidity</th>\n      <th>citric acid</th>\n      <th>residual sugar</th>\n      <th>chlorides</th>\n      <th>free sulfur dioxide</th>\n      <th>total sulfur dioxide</th>\n      <th>density</th>\n      <th>pH</th>\n      <th>sulphates</th>\n      <th>alcohol</th>\n      <th>quality</th>\n    </tr>\n  </thead>\n  <tbody>\n    <tr>\n      <th>0</th>\n      <td>0</td>\n      <td>7.4</td>\n      <td>0.70</td>\n      <td>0.00</td>\n      <td>1.9</td>\n      <td>0.076</td>\n      <td>11.0</td>\n      <td>34.0</td>\n      <td>0.9978</td>\n      <td>3.51</td>\n      <td>0.56</td>\n      <td>9.4</td>\n      <td>5</td>\n    </tr>\n    <tr>\n      <th>1</th>\n      <td>2</td>\n      <td>7.8</td>\n      <td>0.76</td>\n      <td>0.04</td>\n      <td>2.3</td>\n      <td>0.092</td>\n      <td>15.0</td>\n      <td>54.0</td>\n      <td>0.9970</td>\n      <td>3.26</td>\n      <td>0.65</td>\n      <td>9.8</td>\n      <td>5</td>\n    </tr>\n    <tr>\n      <th>2</th>\n      <td>4</td>\n      <td>7.4</td>\n      <td>0.70</td>\n      <td>0.00</td>\n      <td>1.9</td>\n      <td>0.076</td>\n      <td>11.0</td>\n      <td>34.0</td>\n      <td>0.9978</td>\n      <td>3.51</td>\n      <td>0.56</td>\n      <td>9.4</td>\n      <td>5</td>\n    </tr>\n    <tr>\n      <th>3</th>\n      <td>7</td>\n      <td>7.3</td>\n      <td>0.65</td>\n      <td>0.00</td>\n      <td>1.2</td>\n      <td>0.065</td>\n      <td>15.0</td>\n      <td>21.0</td>\n      <td>0.9946</td>\n      <td>3.39</td>\n      <td>0.47</td>\n      <td>10.0</td>\n      <td>7</td>\n    </tr>\n    <tr>\n      <th>4</th>\n      <td>9</td>\n      <td>7.5</td>\n      <td>0.50</td>\n      <td>0.36</td>\n      <td>6.1</td>\n      <td>0.071</td>\n      <td>17.0</td>\n      <td>102.0</td>\n      <td>0.9978</td>\n      <td>3.35</td>\n      <td>0.80</td>\n      <td>10.5</td>\n      <td>5</td>\n    </tr>\n  </tbody>\n</table>\n</div>"
     },
     "metadata": {},
     "execution_count": 15
    }
   ],
   "source": [
    "df.head()"
   ]
  },
  {
   "cell_type": "code",
   "execution_count": 16,
   "metadata": {},
   "outputs": [
    {
     "output_type": "execute_result",
     "data": {
      "text/plain": "5    305\n6    280\n7     88\n4     24\n8      8\n3      5\nName: quality, dtype: int64"
     },
     "metadata": {},
     "execution_count": 16
    }
   ],
   "source": [
    "df['quality'].value_counts()"
   ]
  },
  {
   "cell_type": "code",
   "execution_count": 17,
   "metadata": {},
   "outputs": [],
   "source": [
    "X_test = df.drop(['quality'], axis=1)"
   ]
  },
  {
   "cell_type": "code",
   "execution_count": 18,
   "metadata": {},
   "outputs": [],
   "source": [
    "y_test = df['quality']"
   ]
  },
  {
   "cell_type": "code",
   "execution_count": 19,
   "metadata": {},
   "outputs": [
    {
     "output_type": "error",
     "ename": "TypeError",
     "evalue": "fit_predict_best_model() missing 2 required positional arguments: 'y' and 'X_test'",
     "traceback": [
      "\u001b[0;31m---------------------------------------------------------------------------\u001b[0m",
      "\u001b[0;31mTypeError\u001b[0m                                 Traceback (most recent call last)",
      "\u001b[0;32m<ipython-input-19-3249a22c3bb7>\u001b[0m in \u001b[0;36m<module>\u001b[0;34m\u001b[0m\n\u001b[0;32m----> 1\u001b[0;31m \u001b[0my_pred\u001b[0m \u001b[0;34m=\u001b[0m \u001b[0mm\u001b[0m\u001b[0;34m.\u001b[0m\u001b[0mfit_predict_best_model\u001b[0m\u001b[0;34m(\u001b[0m\u001b[0mX_test\u001b[0m\u001b[0;34m)\u001b[0m\u001b[0;34m\u001b[0m\u001b[0;34m\u001b[0m\u001b[0m\n\u001b[0m",
      "\u001b[0;31mTypeError\u001b[0m: fit_predict_best_model() missing 2 required positional arguments: 'y' and 'X_test'"
     ]
    }
   ],
   "source": [
    "y_pred = m.fit_predict_best_model(X, y, X_test)"
   ]
  },
  {
   "cell_type": "code",
   "execution_count": 20,
   "metadata": {},
   "outputs": [
    {
     "output_type": "error",
     "ename": "NameError",
     "evalue": "name 'y_pred' is not defined",
     "traceback": [
      "\u001b[0;31m---------------------------------------------------------------------------\u001b[0m",
      "\u001b[0;31mNameError\u001b[0m                                 Traceback (most recent call last)",
      "\u001b[0;32m<ipython-input-20-6ecb342ef930>\u001b[0m in \u001b[0;36m<module>\u001b[0;34m\u001b[0m\n\u001b[0;32m----> 1\u001b[0;31m \u001b[0mF1_score\u001b[0m \u001b[0;34m=\u001b[0m \u001b[0mf1_score\u001b[0m\u001b[0;34m(\u001b[0m\u001b[0my_test\u001b[0m\u001b[0;34m,\u001b[0m \u001b[0my_pred\u001b[0m\u001b[0;34m,\u001b[0m \u001b[0maverage\u001b[0m\u001b[0;34m=\u001b[0m\u001b[0;34m'macro'\u001b[0m\u001b[0;34m)\u001b[0m\u001b[0;34m\u001b[0m\u001b[0;34m\u001b[0m\u001b[0m\n\u001b[0m",
      "\u001b[0;31mNameError\u001b[0m: name 'y_pred' is not defined"
     ]
    }
   ],
   "source": [
    "F1_score = f1_score(y_test, y_pred, average='macro')"
   ]
  },
  {
   "cell_type": "code",
   "execution_count": null,
   "metadata": {},
   "outputs": [],
   "source": []
  }
 ],
 "metadata": {
  "kernelspec": {
   "display_name": "Python 3",
   "language": "python",
   "name": "python3"
  },
  "language_info": {
   "codemirror_mode": {
    "name": "ipython",
    "version": 3
   },
   "file_extension": ".py",
   "mimetype": "text/x-python",
   "name": "python",
   "nbconvert_exporter": "python",
   "pygments_lexer": "ipython3",
   "version": "3.8.3-final"
  }
 },
 "nbformat": 4,
 "nbformat_minor": 4
}